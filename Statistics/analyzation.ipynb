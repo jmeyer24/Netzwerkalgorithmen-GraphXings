{
 "cells": [
  {
   "cell_type": "code",
   "execution_count": 50,
   "metadata": {},
   "outputs": [],
   "source": [
    "import pandas as pd\n",
    "# import seaborn as sns"
   ]
  },
  {
   "cell_type": "code",
   "execution_count": 51,
   "metadata": {},
   "outputs": [],
   "source": [
    "# file = input(\"which file?: \")\n",
    "# file = \"Data/optimization (3).csv\"\n",
    "file = \"Data/optimization.csv\"\n",
    "matches = pd.read_csv(file)\n",
    "\n",
    "# constants\n",
    "NUM_PARAMS = len(matches.loc[0]) // 2 - 1\n",
    "WIN_PERC_PRECISION = 1\n",
    "\n",
    "decisive_matches = matches.query(\"cros1 != cros2\")\n",
    "tied_matches = matches.query(\"cros1 == cros2\")\n",
    "\n",
    "# count the wins and losses\n",
    "league = decisive_matches.groupby(list(matches.columns[:NUM_PARAMS])).size().reset_index(name='wins')\n",
    "league[\"losses\"] = decisive_matches.groupby(list(matches.columns[NUM_PARAMS:NUM_PARAMS*2])).size().reset_index(name='losses')[\"losses\"]\n",
    "\n",
    "# count the ties\n",
    "league[\"ties\"] = 0\n",
    "tied_league = tied_matches.groupby(list(matches.columns[:NUM_PARAMS])).size().reset_index(name='ties')\n",
    "for i in range(len(tied_league)):\n",
    "    league.loc[pd.DataFrame(league[list(league.columns[:NUM_PARAMS])]==list(tied_league.loc[i][:NUM_PARAMS])).all(axis=1), \"ties\"] = tied_league[\"ties\"][i]"
   ]
  },
  {
   "cell_type": "code",
   "execution_count": 52,
   "metadata": {},
   "outputs": [
    {
     "data": {
      "text/html": [
       "<div>\n",
       "<style scoped>\n",
       "    .dataframe tbody tr th:only-of-type {\n",
       "        vertical-align: middle;\n",
       "    }\n",
       "\n",
       "    .dataframe tbody tr th {\n",
       "        vertical-align: top;\n",
       "    }\n",
       "\n",
       "    .dataframe thead th {\n",
       "        text-align: right;\n",
       "    }\n",
       "</style>\n",
       "<table border=\"1\" class=\"dataframe\">\n",
       "  <thead>\n",
       "    <tr style=\"text-align: right;\">\n",
       "      <th></th>\n",
       "      <th>stra</th>\n",
       "      <th>perc</th>\n",
       "      <th>circ</th>\n",
       "      <th>samp</th>\n",
       "      <th>vert</th>\n",
       "      <th>wins</th>\n",
       "      <th>losses</th>\n",
       "      <th>ties</th>\n",
       "      <th>matches</th>\n",
       "      <th>win_perc</th>\n",
       "    </tr>\n",
       "  </thead>\n",
       "  <tbody>\n",
       "    <tr>\n",
       "      <th>0</th>\n",
       "      <td>Annealing</td>\n",
       "      <td>0.85</td>\n",
       "      <td>0.475</td>\n",
       "      <td>25</td>\n",
       "      <td>1</td>\n",
       "      <td>1</td>\n",
       "      <td>1</td>\n",
       "      <td>0</td>\n",
       "      <td>2</td>\n",
       "      <td>50.0</td>\n",
       "    </tr>\n",
       "    <tr>\n",
       "      <th>1</th>\n",
       "      <td>Annealing</td>\n",
       "      <td>0.90</td>\n",
       "      <td>0.475</td>\n",
       "      <td>25</td>\n",
       "      <td>1</td>\n",
       "      <td>2</td>\n",
       "      <td>2</td>\n",
       "      <td>0</td>\n",
       "      <td>4</td>\n",
       "      <td>50.0</td>\n",
       "    </tr>\n",
       "  </tbody>\n",
       "</table>\n",
       "</div>"
      ],
      "text/plain": [
       "        stra  perc   circ  samp  vert  wins  losses  ties  matches  win_perc\n",
       "0  Annealing  0.85  0.475    25     1     1       1     0        2      50.0\n",
       "1  Annealing  0.90  0.475    25     1     2       2     0        4      50.0"
      ]
     },
     "execution_count": 52,
     "metadata": {},
     "output_type": "execute_result"
    }
   ],
   "source": [
    "# compute the win percentage and rank the players by it\n",
    "league[\"matches\"] = league[\"losses\"] + league[\"wins\"] + league[\"ties\"]\n",
    "league[\"win_perc\"] = round(league[\"wins\"] / league[\"matches\"] * 100, WIN_PERC_PRECISION)\n",
    "league = league.sort_values(\"win_perc\",ascending=False).reset_index(drop=True)\n",
    "\n",
    "league.iloc[:,:]"
   ]
  },
  {
   "cell_type": "code",
   "execution_count": 53,
   "metadata": {},
   "outputs": [],
   "source": [
    "# sns.heatmap(league.corr(numeric_only=True), cmap=\"vlag\", center=0.0)"
   ]
  },
  {
   "cell_type": "code",
   "execution_count": 54,
   "metadata": {},
   "outputs": [],
   "source": [
    "def show_matches_of_rank(rank,which=\"both\"):\n",
    "    wins = matches[pd.DataFrame(matches[list(matches.columns[:NUM_PARAMS])]==list(league.loc[rank][:NUM_PARAMS])).all(axis=1)].reset_index(drop=True)\n",
    "    losses = matches[pd.DataFrame(matches[list(matches.columns[NUM_PARAMS:NUM_PARAMS*2])]==list(league.loc[rank][:NUM_PARAMS])).all(axis=1)].reset_index(drop=True)\n",
    "    both = pd.concat([wins,losses]).reset_index(drop=True)\n",
    "    return wins if which == \"wins\" else losses if which == \"losses\" else both"
   ]
  },
  {
   "cell_type": "code",
   "execution_count": 55,
   "metadata": {},
   "outputs": [
    {
     "data": {
      "text/html": [
       "<div>\n",
       "<style scoped>\n",
       "    .dataframe tbody tr th:only-of-type {\n",
       "        vertical-align: middle;\n",
       "    }\n",
       "\n",
       "    .dataframe tbody tr th {\n",
       "        vertical-align: top;\n",
       "    }\n",
       "\n",
       "    .dataframe thead th {\n",
       "        text-align: right;\n",
       "    }\n",
       "</style>\n",
       "<table border=\"1\" class=\"dataframe\">\n",
       "  <thead>\n",
       "    <tr style=\"text-align: right;\">\n",
       "      <th></th>\n",
       "      <th>stra</th>\n",
       "      <th>perc</th>\n",
       "      <th>circ</th>\n",
       "      <th>samp</th>\n",
       "      <th>vert</th>\n",
       "      <th>stra2</th>\n",
       "      <th>perc2</th>\n",
       "      <th>circ2</th>\n",
       "      <th>samp2</th>\n",
       "      <th>vert2</th>\n",
       "      <th>cros1</th>\n",
       "      <th>cros2</th>\n",
       "    </tr>\n",
       "  </thead>\n",
       "  <tbody>\n",
       "    <tr>\n",
       "      <th>0</th>\n",
       "      <td>Annealing</td>\n",
       "      <td>0.85</td>\n",
       "      <td>0.475</td>\n",
       "      <td>25</td>\n",
       "      <td>1</td>\n",
       "      <td>Mirroring</td>\n",
       "      <td>0.00</td>\n",
       "      <td>0.475</td>\n",
       "      <td>25</td>\n",
       "      <td>0</td>\n",
       "      <td>4336</td>\n",
       "      <td>2966</td>\n",
       "    </tr>\n",
       "    <tr>\n",
       "      <th>1</th>\n",
       "      <td>Annealing</td>\n",
       "      <td>0.90</td>\n",
       "      <td>0.475</td>\n",
       "      <td>25</td>\n",
       "      <td>1</td>\n",
       "      <td>Annealing</td>\n",
       "      <td>0.85</td>\n",
       "      <td>0.475</td>\n",
       "      <td>25</td>\n",
       "      <td>1</td>\n",
       "      <td>97</td>\n",
       "      <td>94</td>\n",
       "    </tr>\n",
       "  </tbody>\n",
       "</table>\n",
       "</div>"
      ],
      "text/plain": [
       "        stra  perc   circ  samp  vert      stra2  perc2  circ2  samp2  vert2  \\\n",
       "0  Annealing  0.85  0.475    25     1  Mirroring   0.00  0.475     25      0   \n",
       "1  Annealing  0.90  0.475    25     1  Annealing   0.85  0.475     25      1   \n",
       "\n",
       "   cros1  cros2  \n",
       "0   4336   2966  \n",
       "1     97     94  "
      ]
     },
     "execution_count": 55,
     "metadata": {},
     "output_type": "execute_result"
    }
   ],
   "source": [
    "RANK = 0\n",
    "show_matches_of_rank(RANK)"
   ]
  },
  {
   "cell_type": "code",
   "execution_count": null,
   "metadata": {},
   "outputs": [],
   "source": []
  }
 ],
 "metadata": {
  "kernelspec": {
   "display_name": "Python 3",
   "language": "python",
   "name": "python3"
  },
  "language_info": {
   "codemirror_mode": {
    "name": "ipython",
    "version": 3
   },
   "file_extension": ".py",
   "mimetype": "text/x-python",
   "name": "python",
   "nbconvert_exporter": "python",
   "pygments_lexer": "ipython3",
   "version": "3.12.1"
  }
 },
 "nbformat": 4,
 "nbformat_minor": 2
}
