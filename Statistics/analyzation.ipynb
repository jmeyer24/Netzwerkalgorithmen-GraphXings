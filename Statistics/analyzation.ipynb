{
 "cells": [
  {
   "cell_type": "code",
   "execution_count": 529,
   "metadata": {},
   "outputs": [],
   "source": [
    "import pandas as pd\n",
    "import seaborn as sns\n",
    "\n",
    "NUM_PARAMS = 4\n",
    "WIN_PERC_PRECISION = 9"
   ]
  },
  {
   "cell_type": "code",
   "execution_count": 530,
   "metadata": {},
   "outputs": [],
   "source": [
    "# file = input(\"which file?: \")\n",
    "file = \"Data/optimization (3).csv\"\n",
    "matches = pd.read_csv(file)\n",
    "\n",
    "decisive_matches = matches.query(\"cros1 != cros2\")\n",
    "tied_matches = matches.query(\"cros1 == cros2\")"
   ]
  },
  {
   "cell_type": "code",
   "execution_count": 531,
   "metadata": {},
   "outputs": [
    {
     "data": {
      "text/html": [
       "<div>\n",
       "<style scoped>\n",
       "    .dataframe tbody tr th:only-of-type {\n",
       "        vertical-align: middle;\n",
       "    }\n",
       "\n",
       "    .dataframe tbody tr th {\n",
       "        vertical-align: top;\n",
       "    }\n",
       "\n",
       "    .dataframe thead th {\n",
       "        text-align: right;\n",
       "    }\n",
       "</style>\n",
       "<table border=\"1\" class=\"dataframe\">\n",
       "  <thead>\n",
       "    <tr style=\"text-align: right;\">\n",
       "      <th></th>\n",
       "      <th>stra</th>\n",
       "      <th>perc</th>\n",
       "      <th>circ</th>\n",
       "      <th>samp</th>\n",
       "      <th>wins</th>\n",
       "      <th>losses</th>\n",
       "      <th>ties</th>\n",
       "      <th>matches</th>\n",
       "      <th>win_perc</th>\n",
       "    </tr>\n",
       "  </thead>\n",
       "  <tbody>\n",
       "    <tr>\n",
       "      <th>0</th>\n",
       "      <td>Mirroring</td>\n",
       "      <td>0.0</td>\n",
       "      <td>0.425</td>\n",
       "      <td>35</td>\n",
       "      <td>18</td>\n",
       "      <td>8</td>\n",
       "      <td>0</td>\n",
       "      <td>26</td>\n",
       "      <td>69.230769</td>\n",
       "    </tr>\n",
       "    <tr>\n",
       "      <th>1</th>\n",
       "      <td>Mirroring</td>\n",
       "      <td>0.0</td>\n",
       "      <td>0.425</td>\n",
       "      <td>40</td>\n",
       "      <td>2</td>\n",
       "      <td>1</td>\n",
       "      <td>0</td>\n",
       "      <td>3</td>\n",
       "      <td>66.666667</td>\n",
       "    </tr>\n",
       "    <tr>\n",
       "      <th>2</th>\n",
       "      <td>Mirroring</td>\n",
       "      <td>0.0</td>\n",
       "      <td>0.400</td>\n",
       "      <td>40</td>\n",
       "      <td>17</td>\n",
       "      <td>9</td>\n",
       "      <td>1</td>\n",
       "      <td>27</td>\n",
       "      <td>62.962963</td>\n",
       "    </tr>\n",
       "    <tr>\n",
       "      <th>3</th>\n",
       "      <td>Mirroring</td>\n",
       "      <td>0.0</td>\n",
       "      <td>0.400</td>\n",
       "      <td>35</td>\n",
       "      <td>16</td>\n",
       "      <td>10</td>\n",
       "      <td>0</td>\n",
       "      <td>26</td>\n",
       "      <td>61.538462</td>\n",
       "    </tr>\n",
       "    <tr>\n",
       "      <th>4</th>\n",
       "      <td>Annealing</td>\n",
       "      <td>0.9</td>\n",
       "      <td>0.425</td>\n",
       "      <td>20</td>\n",
       "      <td>16</td>\n",
       "      <td>10</td>\n",
       "      <td>0</td>\n",
       "      <td>26</td>\n",
       "      <td>61.538462</td>\n",
       "    </tr>\n",
       "  </tbody>\n",
       "</table>\n",
       "</div>"
      ],
      "text/plain": [
       "        stra  perc   circ  samp  wins  losses  ties  matches   win_perc\n",
       "0  Mirroring   0.0  0.425    35    18       8     0       26  69.230769\n",
       "1  Mirroring   0.0  0.425    40     2       1     0        3  66.666667\n",
       "2  Mirroring   0.0  0.400    40    17       9     1       27  62.962963\n",
       "3  Mirroring   0.0  0.400    35    16      10     0       26  61.538462\n",
       "4  Annealing   0.9  0.425    20    16      10     0       26  61.538462"
      ]
     },
     "execution_count": 531,
     "metadata": {},
     "output_type": "execute_result"
    }
   ],
   "source": [
    "# count the wins and losses\n",
    "league = decisive_matches.groupby(list(matches.columns[:NUM_PARAMS])).size().reset_index(name='wins')\n",
    "league[\"losses\"] = decisive_matches.groupby(list(matches.columns[NUM_PARAMS:NUM_PARAMS*2])).size().reset_index(name='losses')[\"losses\"]\n",
    "\n",
    "# count the ties\n",
    "league[\"ties\"] = 0\n",
    "tied_league = tied_matches.groupby(list(matches.columns[:NUM_PARAMS])).size().reset_index(name='ties')\n",
    "for i in range(len(tied_league)):\n",
    "    league.loc[pd.DataFrame(league[list(league.columns[:NUM_PARAMS])]==list(tied_league.loc[i][:NUM_PARAMS])).all(axis=1), \"ties\"] = tied_league[\"ties\"][i]\n",
    "\n",
    "# compute the win percentage and rank the players by it\n",
    "league[\"matches\"] = league[\"losses\"] + league[\"wins\"] + league[\"ties\"]\n",
    "league[\"win_perc\"] = round(league[\"wins\"] / league[\"matches\"] * 100, WIN_PERC_PRECISION)\n",
    "league = league.sort_values(\"win_perc\",ascending=False).reset_index(drop=True)\n",
    "\n",
    "league.iloc[:5,:]"
   ]
  },
  {
   "cell_type": "code",
   "execution_count": 532,
   "metadata": {},
   "outputs": [
    {
     "data": {
      "text/plain": [
       "<Axes: >"
      ]
     },
     "execution_count": 532,
     "metadata": {},
     "output_type": "execute_result"
    },
    {
     "data": {
      "image/png": "[encoded data removed]",
      "text/plain": [
       "<Figure size 640x480 with 2 Axes>"
      ]
     },
     "metadata": {},
     "output_type": "display_data"
    }
   ],
   "source": [
    "sns.heatmap(league.corr(numeric_only=True), cmap=\"vlag\", center=0.0)"
   ]
  },
  {
   "cell_type": "code",
   "execution_count": 533,
   "metadata": {},
   "outputs": [],
   "source": [
    "def show_matches_of_rank(rank,which=\"both\"):\n",
    "    wins = matches[pd.DataFrame(matches[list(matches.columns[:NUM_PARAMS])]==list(league.loc[rank][:NUM_PARAMS])).all(axis=1)].reset_index(drop=True)\n",
    "    losses = matches[pd.DataFrame(matches[list(matches.columns[NUM_PARAMS:NUM_PARAMS*2])]==list(league.loc[rank][:NUM_PARAMS])).all(axis=1)].reset_index(drop=True)\n",
    "    both = pd.concat([wins,losses]).reset_index(drop=True)\n",
    "    return wins if which == \"wins\" else losses if which == \"losses\" else both"
   ]
  },
  {
   "cell_type": "code",
   "execution_count": 534,
   "metadata": {},
   "outputs": [
    {
     "data": {
      "text/html": [
       "<div>\n",
       "<style scoped>\n",
       "    .dataframe tbody tr th:only-of-type {\n",
       "        vertical-align: middle;\n",
       "    }\n",
       "\n",
       "    .dataframe tbody tr th {\n",
       "        vertical-align: top;\n",
       "    }\n",
       "\n",
       "    .dataframe thead th {\n",
       "        text-align: right;\n",
       "    }\n",
       "</style>\n",
       "<table border=\"1\" class=\"dataframe\">\n",
       "  <thead>\n",
       "    <tr style=\"text-align: right;\">\n",
       "      <th></th>\n",
       "      <th>stra</th>\n",
       "      <th>perc</th>\n",
       "      <th>circ</th>\n",
       "      <th>samp</th>\n",
       "      <th>stra2</th>\n",
       "      <th>perc2</th>\n",
       "      <th>circ2</th>\n",
       "      <th>samp2</th>\n",
       "      <th>cros1</th>\n",
       "      <th>cros2</th>\n",
       "    </tr>\n",
       "  </thead>\n",
       "  <tbody>\n",
       "    <tr>\n",
       "      <th>0</th>\n",
       "      <td>Mirroring</td>\n",
       "      <td>0.0</td>\n",
       "      <td>0.425</td>\n",
       "      <td>40</td>\n",
       "      <td>Annealing</td>\n",
       "      <td>0.95</td>\n",
       "      <td>0.400</td>\n",
       "      <td>20</td>\n",
       "      <td>4616</td>\n",
       "      <td>4029</td>\n",
       "    </tr>\n",
       "    <tr>\n",
       "      <th>1</th>\n",
       "      <td>Mirroring</td>\n",
       "      <td>0.0</td>\n",
       "      <td>0.425</td>\n",
       "      <td>40</td>\n",
       "      <td>Mirroring</td>\n",
       "      <td>0.00</td>\n",
       "      <td>0.400</td>\n",
       "      <td>20</td>\n",
       "      <td>152</td>\n",
       "      <td>126</td>\n",
       "    </tr>\n",
       "    <tr>\n",
       "      <th>2</th>\n",
       "      <td>Annealing</td>\n",
       "      <td>0.9</td>\n",
       "      <td>0.400</td>\n",
       "      <td>20</td>\n",
       "      <td>Mirroring</td>\n",
       "      <td>0.00</td>\n",
       "      <td>0.425</td>\n",
       "      <td>40</td>\n",
       "      <td>63864</td>\n",
       "      <td>58061</td>\n",
       "    </tr>\n",
       "  </tbody>\n",
       "</table>\n",
       "</div>"
      ],
      "text/plain": [
       "        stra  perc   circ  samp      stra2  perc2  circ2  samp2  cros1  cros2\n",
       "0  Mirroring   0.0  0.425    40  Annealing   0.95  0.400     20   4616   4029\n",
       "1  Mirroring   0.0  0.425    40  Mirroring   0.00  0.400     20    152    126\n",
       "2  Annealing   0.9  0.400    20  Mirroring   0.00  0.425     40  63864  58061"
      ]
     },
     "execution_count": 534,
     "metadata": {},
     "output_type": "execute_result"
    }
   ],
   "source": [
    "RANK = 1\n",
    "show_matches_of_rank(RANK)"
   ]
  }
 ],
 "metadata": {
  "kernelspec": {
   "display_name": "Python 3",
   "language": "python",
   "name": "python3"
  },
  "language_info": {
   "codemirror_mode": {
    "name": "ipython",
    "version": 3
   },
   "file_extension": ".py",
   "mimetype": "text/x-python",
   "name": "python",
   "nbconvert_exporter": "python",
   "pygments_lexer": "ipython3",
   "version": "3.12.1"
  }
 },
 "nbformat": 4,
 "nbformat_minor": 2
}
